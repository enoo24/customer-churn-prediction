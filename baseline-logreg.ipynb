{
 "cells": [
  {
   "cell_type": "code",
   "execution_count": 1,
   "id": "nonprofit-auckland",
   "metadata": {},
   "outputs": [],
   "source": [
    "# import the packages\n",
    "import numpy as np\n",
    "import pandas as pd\n",
    "from sklearn.metrics import f1_score"
   ]
  },
  {
   "cell_type": "markdown",
   "id": "first-identification",
   "metadata": {},
   "source": [
    "<p>We are using F1 Score as model performance metric because its more appropriate in an imbalanced class problem</p>"
   ]
  },
  {
   "cell_type": "markdown",
   "id": "demonstrated-coupon",
   "metadata": {},
   "source": [
    "<h3>Get the data</h3>"
   ]
  },
  {
   "cell_type": "code",
   "execution_count": 2,
   "id": "adapted-offer",
   "metadata": {},
   "outputs": [
    {
     "data": {
      "text/html": [
       "<div>\n",
       "<style scoped>\n",
       "    .dataframe tbody tr th:only-of-type {\n",
       "        vertical-align: middle;\n",
       "    }\n",
       "\n",
       "    .dataframe tbody tr th {\n",
       "        vertical-align: top;\n",
       "    }\n",
       "\n",
       "    .dataframe thead th {\n",
       "        text-align: right;\n",
       "    }\n",
       "</style>\n",
       "<table border=\"1\" class=\"dataframe\">\n",
       "  <thead>\n",
       "    <tr style=\"text-align: right;\">\n",
       "      <th></th>\n",
       "      <th>account_length</th>\n",
       "      <th>international_plan</th>\n",
       "      <th>voice_mail_plan</th>\n",
       "      <th>number_vmail_messages</th>\n",
       "      <th>total_day_minutes</th>\n",
       "      <th>total_day_calls</th>\n",
       "      <th>total_eve_calls</th>\n",
       "      <th>total_eve_charge</th>\n",
       "      <th>total_night_minutes</th>\n",
       "      <th>total_night_calls</th>\n",
       "      <th>total_intl_calls</th>\n",
       "      <th>total_intl_charge</th>\n",
       "      <th>number_customer_service_calls</th>\n",
       "      <th>churn</th>\n",
       "      <th>area_code_area_code_415</th>\n",
       "      <th>area_code_area_code_510</th>\n",
       "    </tr>\n",
       "  </thead>\n",
       "  <tbody>\n",
       "    <tr>\n",
       "      <th>0</th>\n",
       "      <td>97</td>\n",
       "      <td>1</td>\n",
       "      <td>0</td>\n",
       "      <td>0</td>\n",
       "      <td>236.9</td>\n",
       "      <td>107</td>\n",
       "      <td>105</td>\n",
       "      <td>13.40</td>\n",
       "      <td>241.0</td>\n",
       "      <td>120</td>\n",
       "      <td>2</td>\n",
       "      <td>1.97</td>\n",
       "      <td>0</td>\n",
       "      <td>1</td>\n",
       "      <td>0</td>\n",
       "      <td>1</td>\n",
       "    </tr>\n",
       "    <tr>\n",
       "      <th>1</th>\n",
       "      <td>28</td>\n",
       "      <td>0</td>\n",
       "      <td>0</td>\n",
       "      <td>0</td>\n",
       "      <td>168.2</td>\n",
       "      <td>87</td>\n",
       "      <td>92</td>\n",
       "      <td>13.74</td>\n",
       "      <td>192.4</td>\n",
       "      <td>112</td>\n",
       "      <td>3</td>\n",
       "      <td>2.73</td>\n",
       "      <td>3</td>\n",
       "      <td>0</td>\n",
       "      <td>1</td>\n",
       "      <td>0</td>\n",
       "    </tr>\n",
       "    <tr>\n",
       "      <th>2</th>\n",
       "      <td>120</td>\n",
       "      <td>0</td>\n",
       "      <td>0</td>\n",
       "      <td>0</td>\n",
       "      <td>180.0</td>\n",
       "      <td>80</td>\n",
       "      <td>82</td>\n",
       "      <td>19.06</td>\n",
       "      <td>265.4</td>\n",
       "      <td>91</td>\n",
       "      <td>7</td>\n",
       "      <td>1.27</td>\n",
       "      <td>3</td>\n",
       "      <td>0</td>\n",
       "      <td>1</td>\n",
       "      <td>0</td>\n",
       "    </tr>\n",
       "    <tr>\n",
       "      <th>3</th>\n",
       "      <td>80</td>\n",
       "      <td>0</td>\n",
       "      <td>1</td>\n",
       "      <td>33</td>\n",
       "      <td>189.4</td>\n",
       "      <td>109</td>\n",
       "      <td>68</td>\n",
       "      <td>12.64</td>\n",
       "      <td>208.9</td>\n",
       "      <td>119</td>\n",
       "      <td>4</td>\n",
       "      <td>3.02</td>\n",
       "      <td>1</td>\n",
       "      <td>1</td>\n",
       "      <td>1</td>\n",
       "      <td>0</td>\n",
       "    </tr>\n",
       "    <tr>\n",
       "      <th>4</th>\n",
       "      <td>100</td>\n",
       "      <td>0</td>\n",
       "      <td>0</td>\n",
       "      <td>0</td>\n",
       "      <td>239.1</td>\n",
       "      <td>96</td>\n",
       "      <td>110</td>\n",
       "      <td>15.31</td>\n",
       "      <td>259.2</td>\n",
       "      <td>112</td>\n",
       "      <td>2</td>\n",
       "      <td>3.78</td>\n",
       "      <td>0</td>\n",
       "      <td>0</td>\n",
       "      <td>0</td>\n",
       "      <td>0</td>\n",
       "    </tr>\n",
       "  </tbody>\n",
       "</table>\n",
       "</div>"
      ],
      "text/plain": [
       "   account_length  international_plan  voice_mail_plan  number_vmail_messages  \\\n",
       "0              97                   1                0                      0   \n",
       "1              28                   0                0                      0   \n",
       "2             120                   0                0                      0   \n",
       "3              80                   0                1                     33   \n",
       "4             100                   0                0                      0   \n",
       "\n",
       "   total_day_minutes  total_day_calls  total_eve_calls  total_eve_charge  \\\n",
       "0              236.9              107              105             13.40   \n",
       "1              168.2               87               92             13.74   \n",
       "2              180.0               80               82             19.06   \n",
       "3              189.4              109               68             12.64   \n",
       "4              239.1               96              110             15.31   \n",
       "\n",
       "   total_night_minutes  total_night_calls  total_intl_calls  \\\n",
       "0                241.0                120                 2   \n",
       "1                192.4                112                 3   \n",
       "2                265.4                 91                 7   \n",
       "3                208.9                119                 4   \n",
       "4                259.2                112                 2   \n",
       "\n",
       "   total_intl_charge  number_customer_service_calls  churn  \\\n",
       "0               1.97                              0      1   \n",
       "1               2.73                              3      0   \n",
       "2               1.27                              3      0   \n",
       "3               3.02                              1      1   \n",
       "4               3.78                              0      0   \n",
       "\n",
       "   area_code_area_code_415  area_code_area_code_510  \n",
       "0                        0                        1  \n",
       "1                        1                        0  \n",
       "2                        1                        0  \n",
       "3                        1                        0  \n",
       "4                        0                        0  "
      ]
     },
     "execution_count": 2,
     "metadata": {},
     "output_type": "execute_result"
    }
   ],
   "source": [
    "train = pd.read_csv('dataset/train.csv')\n",
    "train.head()"
   ]
  },
  {
   "cell_type": "code",
   "execution_count": 3,
   "id": "enhanced-hampshire",
   "metadata": {},
   "outputs": [
    {
     "data": {
      "text/html": [
       "<div>\n",
       "<style scoped>\n",
       "    .dataframe tbody tr th:only-of-type {\n",
       "        vertical-align: middle;\n",
       "    }\n",
       "\n",
       "    .dataframe tbody tr th {\n",
       "        vertical-align: top;\n",
       "    }\n",
       "\n",
       "    .dataframe thead th {\n",
       "        text-align: right;\n",
       "    }\n",
       "</style>\n",
       "<table border=\"1\" class=\"dataframe\">\n",
       "  <thead>\n",
       "    <tr style=\"text-align: right;\">\n",
       "      <th></th>\n",
       "      <th>account_length</th>\n",
       "      <th>international_plan</th>\n",
       "      <th>voice_mail_plan</th>\n",
       "      <th>number_vmail_messages</th>\n",
       "      <th>total_day_minutes</th>\n",
       "      <th>total_day_calls</th>\n",
       "      <th>total_eve_calls</th>\n",
       "      <th>total_eve_charge</th>\n",
       "      <th>total_night_minutes</th>\n",
       "      <th>total_night_calls</th>\n",
       "      <th>total_intl_calls</th>\n",
       "      <th>total_intl_charge</th>\n",
       "      <th>number_customer_service_calls</th>\n",
       "      <th>churn</th>\n",
       "      <th>area_code_area_code_415</th>\n",
       "      <th>area_code_area_code_510</th>\n",
       "    </tr>\n",
       "  </thead>\n",
       "  <tbody>\n",
       "    <tr>\n",
       "      <th>0</th>\n",
       "      <td>65</td>\n",
       "      <td>0</td>\n",
       "      <td>0</td>\n",
       "      <td>0</td>\n",
       "      <td>111.0</td>\n",
       "      <td>51</td>\n",
       "      <td>84</td>\n",
       "      <td>18.68</td>\n",
       "      <td>202.0</td>\n",
       "      <td>89</td>\n",
       "      <td>14</td>\n",
       "      <td>1.19</td>\n",
       "      <td>1</td>\n",
       "      <td>0</td>\n",
       "      <td>1</td>\n",
       "      <td>0</td>\n",
       "    </tr>\n",
       "    <tr>\n",
       "      <th>1</th>\n",
       "      <td>64</td>\n",
       "      <td>0</td>\n",
       "      <td>0</td>\n",
       "      <td>0</td>\n",
       "      <td>206.2</td>\n",
       "      <td>76</td>\n",
       "      <td>76</td>\n",
       "      <td>19.75</td>\n",
       "      <td>251.6</td>\n",
       "      <td>96</td>\n",
       "      <td>2</td>\n",
       "      <td>3.67</td>\n",
       "      <td>1</td>\n",
       "      <td>0</td>\n",
       "      <td>1</td>\n",
       "      <td>0</td>\n",
       "    </tr>\n",
       "    <tr>\n",
       "      <th>2</th>\n",
       "      <td>125</td>\n",
       "      <td>0</td>\n",
       "      <td>0</td>\n",
       "      <td>0</td>\n",
       "      <td>126.7</td>\n",
       "      <td>108</td>\n",
       "      <td>90</td>\n",
       "      <td>17.51</td>\n",
       "      <td>247.8</td>\n",
       "      <td>114</td>\n",
       "      <td>7</td>\n",
       "      <td>3.59</td>\n",
       "      <td>1</td>\n",
       "      <td>0</td>\n",
       "      <td>0</td>\n",
       "      <td>0</td>\n",
       "    </tr>\n",
       "    <tr>\n",
       "      <th>3</th>\n",
       "      <td>117</td>\n",
       "      <td>0</td>\n",
       "      <td>1</td>\n",
       "      <td>13</td>\n",
       "      <td>207.6</td>\n",
       "      <td>65</td>\n",
       "      <td>77</td>\n",
       "      <td>12.98</td>\n",
       "      <td>232.8</td>\n",
       "      <td>95</td>\n",
       "      <td>3</td>\n",
       "      <td>2.62</td>\n",
       "      <td>1</td>\n",
       "      <td>0</td>\n",
       "      <td>0</td>\n",
       "      <td>0</td>\n",
       "    </tr>\n",
       "    <tr>\n",
       "      <th>4</th>\n",
       "      <td>149</td>\n",
       "      <td>0</td>\n",
       "      <td>0</td>\n",
       "      <td>0</td>\n",
       "      <td>175.4</td>\n",
       "      <td>80</td>\n",
       "      <td>127</td>\n",
       "      <td>16.78</td>\n",
       "      <td>188.2</td>\n",
       "      <td>102</td>\n",
       "      <td>2</td>\n",
       "      <td>2.62</td>\n",
       "      <td>2</td>\n",
       "      <td>0</td>\n",
       "      <td>0</td>\n",
       "      <td>0</td>\n",
       "    </tr>\n",
       "  </tbody>\n",
       "</table>\n",
       "</div>"
      ],
      "text/plain": [
       "   account_length  international_plan  voice_mail_plan  number_vmail_messages  \\\n",
       "0              65                   0                0                      0   \n",
       "1              64                   0                0                      0   \n",
       "2             125                   0                0                      0   \n",
       "3             117                   0                1                     13   \n",
       "4             149                   0                0                      0   \n",
       "\n",
       "   total_day_minutes  total_day_calls  total_eve_calls  total_eve_charge  \\\n",
       "0              111.0               51               84             18.68   \n",
       "1              206.2               76               76             19.75   \n",
       "2              126.7              108               90             17.51   \n",
       "3              207.6               65               77             12.98   \n",
       "4              175.4               80              127             16.78   \n",
       "\n",
       "   total_night_minutes  total_night_calls  total_intl_calls  \\\n",
       "0                202.0                 89                14   \n",
       "1                251.6                 96                 2   \n",
       "2                247.8                114                 7   \n",
       "3                232.8                 95                 3   \n",
       "4                188.2                102                 2   \n",
       "\n",
       "   total_intl_charge  number_customer_service_calls  churn  \\\n",
       "0               1.19                              1      0   \n",
       "1               3.67                              1      0   \n",
       "2               3.59                              1      0   \n",
       "3               2.62                              1      0   \n",
       "4               2.62                              2      0   \n",
       "\n",
       "   area_code_area_code_415  area_code_area_code_510  \n",
       "0                        1                        0  \n",
       "1                        1                        0  \n",
       "2                        0                        0  \n",
       "3                        0                        0  \n",
       "4                        0                        0  "
      ]
     },
     "execution_count": 3,
     "metadata": {},
     "output_type": "execute_result"
    }
   ],
   "source": [
    "test = pd.read_csv('dataset/test.csv')\n",
    "test.head()"
   ]
  },
  {
   "cell_type": "markdown",
   "id": "superior-privacy",
   "metadata": {},
   "source": [
    "<p>We will use the test set only for final report on model performance</p>"
   ]
  },
  {
   "cell_type": "code",
   "execution_count": 4,
   "id": "moved-argentina",
   "metadata": {},
   "outputs": [],
   "source": [
    "# split the train data into train-dev set\n",
    "from sklearn.model_selection import train_test_split\n",
    "\n",
    "X = train.drop(['churn'], axis=1)\n",
    "y = train['churn']\n",
    "\n",
    "X_train, X_dev, y_train, y_dev = train_test_split(X, y, test_size=0.2, random_state=42)"
   ]
  },
  {
   "cell_type": "markdown",
   "id": "extra-intention",
   "metadata": {},
   "source": [
    "<h3>Baseline model</h3>"
   ]
  },
  {
   "cell_type": "markdown",
   "id": "collaborative-flight",
   "metadata": {},
   "source": [
    "<p>For this problem, our baseline rule is to predict the class value that is most common in the training dataset. This means that if a training dataset has 90 instances of class \"0\" and 10 instances of class \"1\" that it will predict \"0\" and achieve a baseline accuracy of 90/100 or 90%.</p>"
   ]
  },
  {
   "cell_type": "code",
   "execution_count": 5,
   "id": "amended-shame",
   "metadata": {},
   "outputs": [
    {
     "data": {
      "text/plain": [
       "85.94117647058823"
      ]
     },
     "execution_count": 5,
     "metadata": {},
     "output_type": "execute_result"
    }
   ],
   "source": [
    "baseline_acc = len(train[train['churn'] == 0]) / len(train) * 100\n",
    "baseline_acc"
   ]
  },
  {
   "cell_type": "markdown",
   "id": "foreign-building",
   "metadata": {},
   "source": [
    "<h3>Logistic regression (vanilla)</h3>"
   ]
  },
  {
   "cell_type": "code",
   "execution_count": 30,
   "id": "british-gospel",
   "metadata": {},
   "outputs": [
    {
     "name": "stdout",
     "output_type": "stream",
     "text": [
      "Accuracy score: 0.868\n",
      "F1 score: 0.250\n"
     ]
    }
   ],
   "source": [
    "from sklearn.linear_model import LogisticRegression\n",
    "import warnings\n",
    "warnings.filterwarnings('ignore')\n",
    "\n",
    "logistic_basic = LogisticRegression(C=1e5) # initiate the model with random hyperparameter\n",
    "logistic_basic.fit(X_train, y_train)\n",
    "\n",
    "y_pred = np.array(logistic_basic.predict(X_dev))\n",
    "\n",
    "print('Accuracy score: {:.3f}'.format(logistic_basic.score(X_dev, y_dev)))\n",
    "print('F1 score: {:.3f}'.format(f1_score(y_dev, y_pred)))"
   ]
  },
  {
   "cell_type": "code",
   "execution_count": 31,
   "id": "deadly-dating",
   "metadata": {},
   "outputs": [],
   "source": [
    "# hyperparameters tuning\n",
    "from sklearn.model_selection import RepeatedStratifiedKFold, GridSearchCV\n",
    "\n",
    "logreg = LogisticRegression()\n",
    "cv = RepeatedStratifiedKFold(n_splits=5, n_repeats=3, random_state=42)\n",
    "\n",
    "space = dict()\n",
    "space['solver'] = ['newton-cg', 'lbfgs', 'liblinear']\n",
    "space['penalty'] = ['none', 'l1', 'l2', 'elasticnet']\n",
    "space['C'] = [1e-5, 1e-4, 1e-3, 1e-2, 1e-1, 1, 10, 100]\n",
    "\n",
    "search = GridSearchCV(logreg, space, scoring='f1', n_jobs=-1, cv=cv)\n",
    "\n",
    "logreg_tuned = search.fit(X_train, y_train)"
   ]
  },
  {
   "cell_type": "code",
   "execution_count": 33,
   "id": "cheap-craft",
   "metadata": {},
   "outputs": [
    {
     "name": "stdout",
     "output_type": "stream",
     "text": [
      "F1 score: 0.297\n",
      "Best hyperparameters: {'C': 10, 'penalty': 'l1', 'solver': 'liblinear'}\n"
     ]
    }
   ],
   "source": [
    "y_pred = np.array(logreg_tuned.predict(X_dev))\n",
    "\n",
    "print('F1 score: {:.3f}'.format(f1_score(y_dev, y_pred)))\n",
    "print('Best hyperparameters: {}'.format(logreg_tuned.best_params_))"
   ]
  },
  {
   "cell_type": "code",
   "execution_count": 34,
   "id": "empty-saturn",
   "metadata": {},
   "outputs": [
    {
     "data": {
      "image/png": "[encoded data removed]",
      "text/plain": [
       "<Figure size 432x288 with 2 Axes>"
      ]
     },
     "metadata": {
      "needs_background": "light"
     },
     "output_type": "display_data"
    }
   ],
   "source": [
    "import seaborn as sns\n",
    "\n",
    "conf_matrix = pd.crosstab(y_dev, y_pred, rownames=['Actual'], colnames=['Predicted'])\n",
    "sns.heatmap(conf_matrix, annot=True, fmt='g');"
   ]
  },
  {
   "cell_type": "markdown",
   "id": "sonic-consideration",
   "metadata": {},
   "source": [
    "<h3>Logistic regression with SMOTE over-sampling</h3>"
   ]
  },
  {
   "cell_type": "code",
   "execution_count": 35,
   "id": "understood-stereo",
   "metadata": {},
   "outputs": [],
   "source": [
    "from imblearn.over_sampling import SMOTE\n",
    "\n",
    "sm = SMOTE(random_state=42)\n",
    "X_train_res, y_train_res = sm.fit_resample(X_train, y_train.ravel())"
   ]
  },
  {
   "cell_type": "code",
   "execution_count": 36,
   "id": "equivalent-retail",
   "metadata": {},
   "outputs": [
    {
     "name": "stdout",
     "output_type": "stream",
     "text": [
      "After over-sampling, counts of label \"1\": 2336\n",
      "After over-sampling, counts of label \"0\": 2336\n"
     ]
    }
   ],
   "source": [
    "print('After over-sampling, counts of label \"1\": {}'.format(sum(y_train_res==1)))\n",
    "print('After over-sampling, counts of label \"0\": {}'.format(sum(y_train_res==0)))"
   ]
  },
  {
   "cell_type": "code",
   "execution_count": 37,
   "id": "occupational-furniture",
   "metadata": {},
   "outputs": [
    {
     "name": "stdout",
     "output_type": "stream",
     "text": [
      "F1 score: 0.406\n",
      "Best hyperparameters: {'C': 1, 'penalty': 'l2', 'solver': 'liblinear'}\n"
     ]
    }
   ],
   "source": [
    "logreg = LogisticRegression()\n",
    "cv = RepeatedStratifiedKFold(n_splits=5, n_repeats=3, random_state=42)\n",
    "\n",
    "space = dict()\n",
    "space['solver'] = ['newton-cg', 'lbfgs', 'liblinear']\n",
    "space['penalty'] = ['none', 'l1', 'l2', 'elasticnet']\n",
    "space['C'] = [1e-5, 1e-4, 1e-3, 1e-2, 1e-1, 1, 10, 100]\n",
    "\n",
    "search = GridSearchCV(logreg, space, scoring='f1', n_jobs=-1, cv=cv)\n",
    "\n",
    "logreg_smote_tuned = search.fit(X_train_res, y_train_res)\n",
    "\n",
    "y_pred = np.array(logreg_smote_tuned.predict(X_dev))\n",
    "\n",
    "print('F1 score: {:.3f}'.format(f1_score(y_dev, y_pred)))\n",
    "print('Best hyperparameters: {}'.format(logreg_smote_tuned.best_params_))"
   ]
  },
  {
   "cell_type": "code",
   "execution_count": 38,
   "id": "theoretical-washington",
   "metadata": {},
   "outputs": [
    {
     "data": {
      "image/png": "[encoded data removed]",
      "text/plain": [
       "<Figure size 432x288 with 2 Axes>"
      ]
     },
     "metadata": {
      "needs_background": "light"
     },
     "output_type": "display_data"
    }
   ],
   "source": [
    "conf_matrix = pd.crosstab(y_dev, y_pred, rownames=['Actual'], colnames=['Predicted'])\n",
    "sns.heatmap(conf_matrix, annot=True, fmt='g');"
   ]
  },
  {
   "cell_type": "markdown",
   "id": "biblical-drink",
   "metadata": {},
   "source": [
    "<h3>Logistic regression: combination of SMOTE over-sampling with random undersampling</h3>"
   ]
  },
  {
   "cell_type": "code",
   "execution_count": 39,
   "id": "acoustic-activity",
   "metadata": {},
   "outputs": [
    {
     "name": "stdout",
     "output_type": "stream",
     "text": [
      "After over-and-under-sampling, counts of label \"1\": 467\n",
      "After over-and-under-sampling, counts of label \"0\": 778\n"
     ]
    }
   ],
   "source": [
    "from imblearn.under_sampling import RandomUnderSampler\n",
    "from imblearn.pipeline import Pipeline\n",
    "\n",
    "over = SMOTE(sampling_strategy=0.2)\n",
    "under = RandomUnderSampler(sampling_strategy=0.6)\n",
    "steps = [('o', over), ('u', under)]\n",
    "pipeline = Pipeline(steps=steps)\n",
    "\n",
    "X_train_res, y_train_res = pipeline.fit_resample(X_train, y_train)\n",
    "\n",
    "print('After over-and-under-sampling, counts of label \"1\": {}'.format(sum(y_train_res==1)))\n",
    "print('After over-and-under-sampling, counts of label \"0\": {}'.format(sum(y_train_res==0)))"
   ]
  },
  {
   "cell_type": "code",
   "execution_count": 40,
   "id": "metric-volunteer",
   "metadata": {},
   "outputs": [
    {
     "name": "stdout",
     "output_type": "stream",
     "text": [
      "F1 score: 0.513\n",
      "Best hyperparameters: {'C': 10, 'penalty': 'l2', 'solver': 'liblinear'}\n"
     ]
    }
   ],
   "source": [
    "logreg = LogisticRegression()\n",
    "cv = RepeatedStratifiedKFold(n_splits=5, n_repeats=3, random_state=42)\n",
    "\n",
    "space = dict()\n",
    "space['solver'] = ['newton-cg', 'lbfgs', 'liblinear']\n",
    "space['penalty'] = ['none', 'l1', 'l2', 'elasticnet']\n",
    "space['C'] = [1e-5, 1e-4, 1e-3, 1e-2, 1e-1, 1, 10, 100]\n",
    "\n",
    "search = GridSearchCV(logreg, space, scoring='f1', n_jobs=-1, cv=cv)\n",
    "\n",
    "logreg_comb_tuned = search.fit(X_train_res, y_train_res)\n",
    "\n",
    "y_pred = np.array(logreg_comb_tuned.predict(X_dev))\n",
    "\n",
    "print('F1 score: {:.3f}'.format(f1_score(y_dev, y_pred)))\n",
    "print('Best hyperparameters: {}'.format(logreg_comb_tuned.best_params_))"
   ]
  },
  {
   "cell_type": "code",
   "execution_count": 41,
   "id": "rapid-telephone",
   "metadata": {},
   "outputs": [
    {
     "data": {
      "image/png": "[encoded data removed]",
      "text/plain": [
       "<Figure size 432x288 with 2 Axes>"
      ]
     },
     "metadata": {
      "needs_background": "light"
     },
     "output_type": "display_data"
    }
   ],
   "source": [
    "conf_matrix = pd.crosstab(y_dev, y_pred, rownames=['Actual'], colnames=['Predicted'])\n",
    "sns.heatmap(conf_matrix, annot=True, fmt='g');"
   ]
  },
  {
   "cell_type": "markdown",
   "id": "outer-clerk",
   "metadata": {},
   "source": [
    "<h3>Logistic regression with balanced class weights</h3>"
   ]
  },
  {
   "cell_type": "code",
   "execution_count": 42,
   "id": "historic-example",
   "metadata": {},
   "outputs": [
    {
     "name": "stdout",
     "output_type": "stream",
     "text": [
      "F1 score: 0.483\n",
      "Best hyperparameters: {'C': 1, 'penalty': 'l2', 'solver': 'newton-cg'}\n"
     ]
    }
   ],
   "source": [
    "logreg = LogisticRegression(class_weight='balanced')\n",
    "cv = RepeatedStratifiedKFold(n_splits=5, n_repeats=3, random_state=42)\n",
    "\n",
    "space = dict()\n",
    "space['solver'] = ['newton-cg', 'lbfgs', 'liblinear']\n",
    "space['penalty'] = ['none', 'l1', 'l2', 'elasticnet']\n",
    "space['C'] = [1e-5, 1e-4, 1e-3, 1e-2, 1e-1, 1, 10, 100]\n",
    "\n",
    "search = GridSearchCV(logreg, space, scoring='f1', n_jobs=-1, cv=cv)\n",
    "\n",
    "logreg_balanced = search.fit(X_train, y_train)\n",
    "\n",
    "y_pred = np.array(logreg_balanced.predict(X_dev))\n",
    "\n",
    "print('F1 score: {:.3f}'.format(f1_score(y_dev, y_pred)))\n",
    "print('Best hyperparameters: {}'.format(logreg_balanced.best_params_))"
   ]
  },
  {
   "cell_type": "code",
   "execution_count": 43,
   "id": "resistant-delight",
   "metadata": {},
   "outputs": [
    {
     "data": {
      "image/png": "[encoded data removed]",
      "text/plain": [
       "<Figure size 432x288 with 2 Axes>"
      ]
     },
     "metadata": {
      "needs_background": "light"
     },
     "output_type": "display_data"
    }
   ],
   "source": [
    "conf_matrix = pd.crosstab(y_dev, y_pred, rownames=['Actual'], colnames=['Predicted'])\n",
    "sns.heatmap(conf_matrix, annot=True, fmt='g');"
   ]
  },
  {
   "cell_type": "markdown",
   "id": "moderate-fleet",
   "metadata": {},
   "source": [
    "<p>It seems like combining over-sampling with the under-sampling method generates a higher F1 Score than any other methods</p>"
   ]
  },
  {
   "cell_type": "markdown",
   "id": "descending-fabric",
   "metadata": {},
   "source": [
    "<h3>Put all  the pieces together</h3>"
   ]
  },
  {
   "cell_type": "code",
   "execution_count": 46,
   "id": "growing-citizenship",
   "metadata": {},
   "outputs": [],
   "source": [
    "X_test = test.drop(['churn'], axis=1)\n",
    "y_test = test['churn']"
   ]
  },
  {
   "cell_type": "code",
   "execution_count": 45,
   "id": "streaming-trout",
   "metadata": {},
   "outputs": [
    {
     "name": "stdout",
     "output_type": "stream",
     "text": [
      "After over-and-under-sampling, counts of label \"1\": 584\n",
      "After over-and-under-sampling, counts of label \"0\": 973\n"
     ]
    }
   ],
   "source": [
    "over = SMOTE(sampling_strategy=0.2)\n",
    "under = RandomUnderSampler(sampling_strategy=0.6)\n",
    "steps = [('o', over), ('u', under)]\n",
    "pipeline = Pipeline(steps=steps)\n",
    "\n",
    "X_train_res, y_train_res = pipeline.fit_resample(X, y)\n",
    "\n",
    "print('After over-and-under-sampling, counts of label \"1\": {}'.format(sum(y_train_res==1)))\n",
    "print('After over-and-under-sampling, counts of label \"0\": {}'.format(sum(y_train_res==0)))"
   ]
  },
  {
   "cell_type": "code",
   "execution_count": 47,
   "id": "informal-drill",
   "metadata": {},
   "outputs": [
    {
     "name": "stdout",
     "output_type": "stream",
     "text": [
      "F1 score: 0.519\n",
      "Best hyperparameters: {'C': 10, 'penalty': 'l2', 'solver': 'liblinear'}\n"
     ]
    }
   ],
   "source": [
    "logreg = LogisticRegression()\n",
    "cv = RepeatedStratifiedKFold(n_splits=5, n_repeats=3, random_state=42)\n",
    "\n",
    "space = dict()\n",
    "space['solver'] = ['newton-cg', 'lbfgs', 'liblinear']\n",
    "space['penalty'] = ['none', 'l1', 'l2', 'elasticnet']\n",
    "space['C'] = [1e-5, 1e-4, 1e-3, 1e-2, 1e-1, 1, 10, 100]\n",
    "\n",
    "search = GridSearchCV(logreg, space, scoring='f1', n_jobs=-1, cv=cv)\n",
    "\n",
    "logreg_comb_tuned = search.fit(X_train_res, y_train_res)\n",
    "\n",
    "y_pred = np.array(logreg_comb_tuned.predict(X_test))\n",
    "\n",
    "print('F1 score: {:.3f}'.format(f1_score(y_test, y_pred)))\n",
    "print('Best hyperparameters: {}'.format(logreg_comb_tuned.best_params_))"
   ]
  },
  {
   "cell_type": "code",
   "execution_count": 48,
   "id": "whole-debut",
   "metadata": {},
   "outputs": [
    {
     "data": {
      "image/png": "[encoded data removed]",
      "text/plain": [
       "<Figure size 432x288 with 2 Axes>"
      ]
     },
     "metadata": {
      "needs_background": "light"
     },
     "output_type": "display_data"
    }
   ],
   "source": [
    "conf_matrix = pd.crosstab(y_test, y_pred, rownames=['Actual'], colnames=['Predicted'])\n",
    "sns.heatmap(conf_matrix, annot=True, fmt='g');"
   ]
  },
  {
   "cell_type": "code",
   "execution_count": null,
   "id": "bottom-services",
   "metadata": {},
   "outputs": [],
   "source": []
  }
 ],
 "metadata": {
  "kernelspec": {
   "display_name": "Python 3",
   "language": "python",
   "name": "python3"
  },
  "language_info": {
   "codemirror_mode": {
    "name": "ipython",
    "version": 3
   },
   "file_extension": ".py",
   "mimetype": "text/x-python",
   "name": "python",
   "nbconvert_exporter": "python",
   "pygments_lexer": "ipython3",
   "version": "3.8.5"
  }
 },
 "nbformat": 4,
 "nbformat_minor": 5
}
