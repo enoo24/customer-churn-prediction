{
 "cells": [
  {
   "cell_type": "code",
   "execution_count": 1,
   "id": "fatty-editor",
   "metadata": {},
   "outputs": [
    {
     "data": {
      "text/html": [
       "<div>\n",
       "<style scoped>\n",
       "    .dataframe tbody tr th:only-of-type {\n",
       "        vertical-align: middle;\n",
       "    }\n",
       "\n",
       "    .dataframe tbody tr th {\n",
       "        vertical-align: top;\n",
       "    }\n",
       "\n",
       "    .dataframe thead th {\n",
       "        text-align: right;\n",
       "    }\n",
       "</style>\n",
       "<table border=\"1\" class=\"dataframe\">\n",
       "  <thead>\n",
       "    <tr style=\"text-align: right;\">\n",
       "      <th></th>\n",
       "      <th>Model</th>\n",
       "      <th>F1 Score</th>\n",
       "    </tr>\n",
       "  </thead>\n",
       "  <tbody>\n",
       "    <tr>\n",
       "      <th>0</th>\n",
       "      <td>Logistic Regression</td>\n",
       "      <td>0.519</td>\n",
       "    </tr>\n",
       "    <tr>\n",
       "      <th>1</th>\n",
       "      <td>Random Forest</td>\n",
       "      <td>0.798</td>\n",
       "    </tr>\n",
       "    <tr>\n",
       "      <th>2</th>\n",
       "      <td>LGBM Classifier</td>\n",
       "      <td>0.867</td>\n",
       "    </tr>\n",
       "    <tr>\n",
       "      <th>3</th>\n",
       "      <td>XGBoost</td>\n",
       "      <td>0.866</td>\n",
       "    </tr>\n",
       "    <tr>\n",
       "      <th>4</th>\n",
       "      <td>Neural Network</td>\n",
       "      <td>0.775</td>\n",
       "    </tr>\n",
       "  </tbody>\n",
       "</table>\n",
       "</div>"
      ],
      "text/plain": [
       "                 Model  F1 Score\n",
       "0  Logistic Regression     0.519\n",
       "1        Random Forest     0.798\n",
       "2      LGBM Classifier     0.867\n",
       "3              XGBoost     0.866\n",
       "4       Neural Network     0.775"
      ]
     },
     "execution_count": 1,
     "metadata": {},
     "output_type": "execute_result"
    }
   ],
   "source": [
    "import pandas as pd\n",
    "\n",
    "data = {'Model': ['Logistic Regression', 'Random Forest', 'LGBM Classifier', 'XGBoost', 'Neural Network'],\n",
    "       'F1 Score': [0.519, 0.798, 0.867, 0.866, 0.775]}\n",
    "model_scores = pd.DataFrame(data)\n",
    "model_scores"
   ]
  },
  {
   "cell_type": "markdown",
   "id": "backed-midwest",
   "metadata": {},
   "source": [
    "<h3>We will use <strong>LGBM Classifier</strong> as our model to predict whether the customer will churn or not</h3>"
   ]
  },
  {
   "cell_type": "code",
   "execution_count": 2,
   "id": "prepared-honey",
   "metadata": {},
   "outputs": [],
   "source": [
    "# build the model\n",
    "import lightgbm as lgb\n",
    "import warnings\n",
    "warnings.filterwarnings('ignore')\n",
    "\n",
    "lgb_clf = lgb.LGBMClassifier(learning_rate=0.1, \n",
    "                             min_child_samples=15, \n",
    "                             n_estimators=100,\n",
    "                             num_leaves=40,\n",
    "                             is_unbalance=True)"
   ]
  },
  {
   "cell_type": "code",
   "execution_count": 4,
   "id": "sharing-flood",
   "metadata": {},
   "outputs": [],
   "source": [
    "# combine all the data\n",
    "train = pd.read_csv('dataset/train.csv')\n",
    "test = pd.read_csv('dataset/test.csv')\n",
    "\n",
    "all_data = pd.concat([train, test], ignore_index=True)\n",
    "X_data = all_data.drop(['churn'], axis=1)\n",
    "y_data = all_data['churn']"
   ]
  },
  {
   "cell_type": "code",
   "execution_count": 7,
   "id": "young-robin",
   "metadata": {},
   "outputs": [
    {
     "data": {
      "text/plain": [
       "['lgbm_classifier_model.pkl']"
      ]
     },
     "execution_count": 7,
     "metadata": {},
     "output_type": "execute_result"
    }
   ],
   "source": [
    "# train and save the model\n",
    "import joblib\n",
    "\n",
    "lgb_clf.fit(X_data, y_data)\n",
    "\n",
    "joblib_file = 'lgbm_classifier_model.pkl'\n",
    "joblib.dump(lgb_clf, joblib_file)"
   ]
  },
  {
   "cell_type": "code",
   "execution_count": null,
   "id": "sealed-rapid",
   "metadata": {},
   "outputs": [],
   "source": []
  }
 ],
 "metadata": {
  "kernelspec": {
   "display_name": "Python 3",
   "language": "python",
   "name": "python3"
  },
  "language_info": {
   "codemirror_mode": {
    "name": "ipython",
    "version": 3
   },
   "file_extension": ".py",
   "mimetype": "text/x-python",
   "name": "python",
   "nbconvert_exporter": "python",
   "pygments_lexer": "ipython3",
   "version": "3.8.5"
  }
 },
 "nbformat": 4,
 "nbformat_minor": 5
}
