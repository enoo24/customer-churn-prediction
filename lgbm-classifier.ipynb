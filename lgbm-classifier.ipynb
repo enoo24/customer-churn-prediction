{
 "cells": [
  {
   "cell_type": "code",
   "execution_count": 1,
   "id": "coral-empty",
   "metadata": {},
   "outputs": [],
   "source": [
    "# import the packages\n",
    "import numpy as np\n",
    "import pandas as pd\n",
    "from sklearn.metrics import f1_score"
   ]
  },
  {
   "cell_type": "markdown",
   "id": "stupid-framing",
   "metadata": {},
   "source": [
    "<p>We are using F1 Score as model performance metric because its more appropriate in an imbalanced class problem</p>"
   ]
  },
  {
   "cell_type": "markdown",
   "id": "wrapped-phrase",
   "metadata": {},
   "source": [
    "<h3>Get the data</h3>"
   ]
  },
  {
   "cell_type": "code",
   "execution_count": 2,
   "id": "organic-creek",
   "metadata": {},
   "outputs": [
    {
     "data": {
      "text/html": [
       "<div>\n",
       "<style scoped>\n",
       "    .dataframe tbody tr th:only-of-type {\n",
       "        vertical-align: middle;\n",
       "    }\n",
       "\n",
       "    .dataframe tbody tr th {\n",
       "        vertical-align: top;\n",
       "    }\n",
       "\n",
       "    .dataframe thead th {\n",
       "        text-align: right;\n",
       "    }\n",
       "</style>\n",
       "<table border=\"1\" class=\"dataframe\">\n",
       "  <thead>\n",
       "    <tr style=\"text-align: right;\">\n",
       "      <th></th>\n",
       "      <th>account_length</th>\n",
       "      <th>international_plan</th>\n",
       "      <th>voice_mail_plan</th>\n",
       "      <th>number_vmail_messages</th>\n",
       "      <th>total_day_minutes</th>\n",
       "      <th>total_day_calls</th>\n",
       "      <th>total_eve_calls</th>\n",
       "      <th>total_eve_charge</th>\n",
       "      <th>total_night_minutes</th>\n",
       "      <th>total_night_calls</th>\n",
       "      <th>total_intl_calls</th>\n",
       "      <th>total_intl_charge</th>\n",
       "      <th>number_customer_service_calls</th>\n",
       "      <th>churn</th>\n",
       "      <th>area_code_area_code_415</th>\n",
       "      <th>area_code_area_code_510</th>\n",
       "    </tr>\n",
       "  </thead>\n",
       "  <tbody>\n",
       "    <tr>\n",
       "      <th>0</th>\n",
       "      <td>97</td>\n",
       "      <td>1</td>\n",
       "      <td>0</td>\n",
       "      <td>0</td>\n",
       "      <td>236.9</td>\n",
       "      <td>107</td>\n",
       "      <td>105</td>\n",
       "      <td>13.40</td>\n",
       "      <td>241.0</td>\n",
       "      <td>120</td>\n",
       "      <td>2</td>\n",
       "      <td>1.97</td>\n",
       "      <td>0</td>\n",
       "      <td>1</td>\n",
       "      <td>0</td>\n",
       "      <td>1</td>\n",
       "    </tr>\n",
       "    <tr>\n",
       "      <th>1</th>\n",
       "      <td>28</td>\n",
       "      <td>0</td>\n",
       "      <td>0</td>\n",
       "      <td>0</td>\n",
       "      <td>168.2</td>\n",
       "      <td>87</td>\n",
       "      <td>92</td>\n",
       "      <td>13.74</td>\n",
       "      <td>192.4</td>\n",
       "      <td>112</td>\n",
       "      <td>3</td>\n",
       "      <td>2.73</td>\n",
       "      <td>3</td>\n",
       "      <td>0</td>\n",
       "      <td>1</td>\n",
       "      <td>0</td>\n",
       "    </tr>\n",
       "    <tr>\n",
       "      <th>2</th>\n",
       "      <td>120</td>\n",
       "      <td>0</td>\n",
       "      <td>0</td>\n",
       "      <td>0</td>\n",
       "      <td>180.0</td>\n",
       "      <td>80</td>\n",
       "      <td>82</td>\n",
       "      <td>19.06</td>\n",
       "      <td>265.4</td>\n",
       "      <td>91</td>\n",
       "      <td>7</td>\n",
       "      <td>1.27</td>\n",
       "      <td>3</td>\n",
       "      <td>0</td>\n",
       "      <td>1</td>\n",
       "      <td>0</td>\n",
       "    </tr>\n",
       "    <tr>\n",
       "      <th>3</th>\n",
       "      <td>80</td>\n",
       "      <td>0</td>\n",
       "      <td>1</td>\n",
       "      <td>33</td>\n",
       "      <td>189.4</td>\n",
       "      <td>109</td>\n",
       "      <td>68</td>\n",
       "      <td>12.64</td>\n",
       "      <td>208.9</td>\n",
       "      <td>119</td>\n",
       "      <td>4</td>\n",
       "      <td>3.02</td>\n",
       "      <td>1</td>\n",
       "      <td>1</td>\n",
       "      <td>1</td>\n",
       "      <td>0</td>\n",
       "    </tr>\n",
       "    <tr>\n",
       "      <th>4</th>\n",
       "      <td>100</td>\n",
       "      <td>0</td>\n",
       "      <td>0</td>\n",
       "      <td>0</td>\n",
       "      <td>239.1</td>\n",
       "      <td>96</td>\n",
       "      <td>110</td>\n",
       "      <td>15.31</td>\n",
       "      <td>259.2</td>\n",
       "      <td>112</td>\n",
       "      <td>2</td>\n",
       "      <td>3.78</td>\n",
       "      <td>0</td>\n",
       "      <td>0</td>\n",
       "      <td>0</td>\n",
       "      <td>0</td>\n",
       "    </tr>\n",
       "  </tbody>\n",
       "</table>\n",
       "</div>"
      ],
      "text/plain": [
       "   account_length  international_plan  voice_mail_plan  number_vmail_messages  \\\n",
       "0              97                   1                0                      0   \n",
       "1              28                   0                0                      0   \n",
       "2             120                   0                0                      0   \n",
       "3              80                   0                1                     33   \n",
       "4             100                   0                0                      0   \n",
       "\n",
       "   total_day_minutes  total_day_calls  total_eve_calls  total_eve_charge  \\\n",
       "0              236.9              107              105             13.40   \n",
       "1              168.2               87               92             13.74   \n",
       "2              180.0               80               82             19.06   \n",
       "3              189.4              109               68             12.64   \n",
       "4              239.1               96              110             15.31   \n",
       "\n",
       "   total_night_minutes  total_night_calls  total_intl_calls  \\\n",
       "0                241.0                120                 2   \n",
       "1                192.4                112                 3   \n",
       "2                265.4                 91                 7   \n",
       "3                208.9                119                 4   \n",
       "4                259.2                112                 2   \n",
       "\n",
       "   total_intl_charge  number_customer_service_calls  churn  \\\n",
       "0               1.97                              0      1   \n",
       "1               2.73                              3      0   \n",
       "2               1.27                              3      0   \n",
       "3               3.02                              1      1   \n",
       "4               3.78                              0      0   \n",
       "\n",
       "   area_code_area_code_415  area_code_area_code_510  \n",
       "0                        0                        1  \n",
       "1                        1                        0  \n",
       "2                        1                        0  \n",
       "3                        1                        0  \n",
       "4                        0                        0  "
      ]
     },
     "execution_count": 2,
     "metadata": {},
     "output_type": "execute_result"
    }
   ],
   "source": [
    "train = pd.read_csv('dataset/train.csv')\n",
    "train.head()"
   ]
  },
  {
   "cell_type": "code",
   "execution_count": 3,
   "id": "blank-prediction",
   "metadata": {},
   "outputs": [
    {
     "data": {
      "text/html": [
       "<div>\n",
       "<style scoped>\n",
       "    .dataframe tbody tr th:only-of-type {\n",
       "        vertical-align: middle;\n",
       "    }\n",
       "\n",
       "    .dataframe tbody tr th {\n",
       "        vertical-align: top;\n",
       "    }\n",
       "\n",
       "    .dataframe thead th {\n",
       "        text-align: right;\n",
       "    }\n",
       "</style>\n",
       "<table border=\"1\" class=\"dataframe\">\n",
       "  <thead>\n",
       "    <tr style=\"text-align: right;\">\n",
       "      <th></th>\n",
       "      <th>account_length</th>\n",
       "      <th>international_plan</th>\n",
       "      <th>voice_mail_plan</th>\n",
       "      <th>number_vmail_messages</th>\n",
       "      <th>total_day_minutes</th>\n",
       "      <th>total_day_calls</th>\n",
       "      <th>total_eve_calls</th>\n",
       "      <th>total_eve_charge</th>\n",
       "      <th>total_night_minutes</th>\n",
       "      <th>total_night_calls</th>\n",
       "      <th>total_intl_calls</th>\n",
       "      <th>total_intl_charge</th>\n",
       "      <th>number_customer_service_calls</th>\n",
       "      <th>churn</th>\n",
       "      <th>area_code_area_code_415</th>\n",
       "      <th>area_code_area_code_510</th>\n",
       "    </tr>\n",
       "  </thead>\n",
       "  <tbody>\n",
       "    <tr>\n",
       "      <th>0</th>\n",
       "      <td>65</td>\n",
       "      <td>0</td>\n",
       "      <td>0</td>\n",
       "      <td>0</td>\n",
       "      <td>111.0</td>\n",
       "      <td>51</td>\n",
       "      <td>84</td>\n",
       "      <td>18.68</td>\n",
       "      <td>202.0</td>\n",
       "      <td>89</td>\n",
       "      <td>14</td>\n",
       "      <td>1.19</td>\n",
       "      <td>1</td>\n",
       "      <td>0</td>\n",
       "      <td>1</td>\n",
       "      <td>0</td>\n",
       "    </tr>\n",
       "    <tr>\n",
       "      <th>1</th>\n",
       "      <td>64</td>\n",
       "      <td>0</td>\n",
       "      <td>0</td>\n",
       "      <td>0</td>\n",
       "      <td>206.2</td>\n",
       "      <td>76</td>\n",
       "      <td>76</td>\n",
       "      <td>19.75</td>\n",
       "      <td>251.6</td>\n",
       "      <td>96</td>\n",
       "      <td>2</td>\n",
       "      <td>3.67</td>\n",
       "      <td>1</td>\n",
       "      <td>0</td>\n",
       "      <td>1</td>\n",
       "      <td>0</td>\n",
       "    </tr>\n",
       "    <tr>\n",
       "      <th>2</th>\n",
       "      <td>125</td>\n",
       "      <td>0</td>\n",
       "      <td>0</td>\n",
       "      <td>0</td>\n",
       "      <td>126.7</td>\n",
       "      <td>108</td>\n",
       "      <td>90</td>\n",
       "      <td>17.51</td>\n",
       "      <td>247.8</td>\n",
       "      <td>114</td>\n",
       "      <td>7</td>\n",
       "      <td>3.59</td>\n",
       "      <td>1</td>\n",
       "      <td>0</td>\n",
       "      <td>0</td>\n",
       "      <td>0</td>\n",
       "    </tr>\n",
       "    <tr>\n",
       "      <th>3</th>\n",
       "      <td>117</td>\n",
       "      <td>0</td>\n",
       "      <td>1</td>\n",
       "      <td>13</td>\n",
       "      <td>207.6</td>\n",
       "      <td>65</td>\n",
       "      <td>77</td>\n",
       "      <td>12.98</td>\n",
       "      <td>232.8</td>\n",
       "      <td>95</td>\n",
       "      <td>3</td>\n",
       "      <td>2.62</td>\n",
       "      <td>1</td>\n",
       "      <td>0</td>\n",
       "      <td>0</td>\n",
       "      <td>0</td>\n",
       "    </tr>\n",
       "    <tr>\n",
       "      <th>4</th>\n",
       "      <td>149</td>\n",
       "      <td>0</td>\n",
       "      <td>0</td>\n",
       "      <td>0</td>\n",
       "      <td>175.4</td>\n",
       "      <td>80</td>\n",
       "      <td>127</td>\n",
       "      <td>16.78</td>\n",
       "      <td>188.2</td>\n",
       "      <td>102</td>\n",
       "      <td>2</td>\n",
       "      <td>2.62</td>\n",
       "      <td>2</td>\n",
       "      <td>0</td>\n",
       "      <td>0</td>\n",
       "      <td>0</td>\n",
       "    </tr>\n",
       "  </tbody>\n",
       "</table>\n",
       "</div>"
      ],
      "text/plain": [
       "   account_length  international_plan  voice_mail_plan  number_vmail_messages  \\\n",
       "0              65                   0                0                      0   \n",
       "1              64                   0                0                      0   \n",
       "2             125                   0                0                      0   \n",
       "3             117                   0                1                     13   \n",
       "4             149                   0                0                      0   \n",
       "\n",
       "   total_day_minutes  total_day_calls  total_eve_calls  total_eve_charge  \\\n",
       "0              111.0               51               84             18.68   \n",
       "1              206.2               76               76             19.75   \n",
       "2              126.7              108               90             17.51   \n",
       "3              207.6               65               77             12.98   \n",
       "4              175.4               80              127             16.78   \n",
       "\n",
       "   total_night_minutes  total_night_calls  total_intl_calls  \\\n",
       "0                202.0                 89                14   \n",
       "1                251.6                 96                 2   \n",
       "2                247.8                114                 7   \n",
       "3                232.8                 95                 3   \n",
       "4                188.2                102                 2   \n",
       "\n",
       "   total_intl_charge  number_customer_service_calls  churn  \\\n",
       "0               1.19                              1      0   \n",
       "1               3.67                              1      0   \n",
       "2               3.59                              1      0   \n",
       "3               2.62                              1      0   \n",
       "4               2.62                              2      0   \n",
       "\n",
       "   area_code_area_code_415  area_code_area_code_510  \n",
       "0                        1                        0  \n",
       "1                        1                        0  \n",
       "2                        0                        0  \n",
       "3                        0                        0  \n",
       "4                        0                        0  "
      ]
     },
     "execution_count": 3,
     "metadata": {},
     "output_type": "execute_result"
    }
   ],
   "source": [
    "test = pd.read_csv('dataset/test.csv')\n",
    "test.head()"
   ]
  },
  {
   "cell_type": "markdown",
   "id": "exciting-monthly",
   "metadata": {},
   "source": [
    "<p>We will use the test set only for final report on model performance</p>"
   ]
  },
  {
   "cell_type": "code",
   "execution_count": 4,
   "id": "starting-tomato",
   "metadata": {},
   "outputs": [],
   "source": [
    "# split the train data into train-dev set\n",
    "from sklearn.model_selection import train_test_split\n",
    "\n",
    "X = train.drop(['churn'], axis=1)\n",
    "y = train['churn']\n",
    "\n",
    "X_train, X_dev, y_train, y_dev = train_test_split(X, y, test_size=0.2, random_state=42)"
   ]
  },
  {
   "cell_type": "markdown",
   "id": "beautiful-valley",
   "metadata": {},
   "source": [
    "<h3>LightGBM Classifier (vanilla)</h3>"
   ]
  },
  {
   "cell_type": "code",
   "execution_count": 5,
   "id": "coastal-columbia",
   "metadata": {},
   "outputs": [
    {
     "name": "stdout",
     "output_type": "stream",
     "text": [
      "F1 score: 0.835\n"
     ]
    }
   ],
   "source": [
    "import lightgbm as lgb\n",
    "import warnings\n",
    "warnings.filterwarnings('ignore')\n",
    "\n",
    "lgb_basic = lgb.LGBMClassifier()\n",
    "lgb_basic.fit(X_train, y_train)\n",
    "\n",
    "y_pred = np.array(lgb_basic.predict(X_dev))\n",
    "\n",
    "print('F1 score: {:.3f}'.format(f1_score(y_dev, y_pred)))"
   ]
  },
  {
   "cell_type": "code",
   "execution_count": 6,
   "id": "lovely-proposition",
   "metadata": {},
   "outputs": [
    {
     "name": "stdout",
     "output_type": "stream",
     "text": [
      "Fitting 15 folds for each of 100 candidates, totalling 1500 fits\n"
     ]
    },
    {
     "data": {
      "text/plain": [
       "RandomizedSearchCV(cv=RepeatedStratifiedKFold(n_repeats=3, n_splits=5, random_state=42),\n",
       "                   estimator=LGBMClassifier(), n_iter=100, n_jobs=-1,\n",
       "                   param_distributions={'is_unbalance': [True],\n",
       "                                        'learning_rate': [0.01, 0.05, 0.1, 0.5],\n",
       "                                        'min_child_samples': [20, 30, 40],\n",
       "                                        'n_estimators': [100, 150, 200, 250],\n",
       "                                        'num_leaves': [50, 60, 70]},\n",
       "                   scoring='f1', verbose=2)"
      ]
     },
     "execution_count": 6,
     "metadata": {},
     "output_type": "execute_result"
    }
   ],
   "source": [
    "# hyperparameters tuning\n",
    "from sklearn.model_selection import RepeatedStratifiedKFold, RandomizedSearchCV\n",
    "\n",
    "clf = lgb.LGBMClassifier()\n",
    "cv = RepeatedStratifiedKFold(n_splits=5, n_repeats=3, random_state=42)\n",
    "\n",
    "space = dict()\n",
    "space['n_estimators'] = [100, 150, 200, 250]\n",
    "space['learning_rate'] = [0.01, 0.05, 0.1, 0.5]\n",
    "space['min_child_samples'] = [20, 30, 40]\n",
    "space['num_leaves'] = [50, 60, 70]\n",
    "space['is_unbalance'] = [True]\n",
    "\n",
    "clf_random = RandomizedSearchCV(clf, space, scoring='f1', n_iter=100, cv=cv, verbose=2, n_jobs=-1)\n",
    "clf_random.fit(X_train, y_train)"
   ]
  },
  {
   "cell_type": "code",
   "execution_count": 7,
   "id": "thorough-means",
   "metadata": {},
   "outputs": [
    {
     "name": "stdout",
     "output_type": "stream",
     "text": [
      "Best hyperparameters: {'num_leaves': 50, 'n_estimators': 100, 'min_child_samples': 20, 'learning_rate': 0.1, 'is_unbalance': True}\n"
     ]
    }
   ],
   "source": [
    "print('Best hyperparameters: {}'.format(clf_random.best_params_))"
   ]
  },
  {
   "cell_type": "code",
   "execution_count": 8,
   "id": "mineral-lender",
   "metadata": {},
   "outputs": [
    {
     "data": {
      "text/plain": [
       "GridSearchCV(cv=RepeatedStratifiedKFold(n_repeats=3, n_splits=5, random_state=42),\n",
       "             estimator=LGBMClassifier(), n_jobs=-1,\n",
       "             param_grid={'is_unbalance': [True], 'learning_rate': [0.1],\n",
       "                         'min_child_samples': [10, 15, 20],\n",
       "                         'n_estimators': [20, 60, 80, 100],\n",
       "                         'num_leaves': [30, 40, 50]},\n",
       "             scoring='f1')"
      ]
     },
     "execution_count": 8,
     "metadata": {},
     "output_type": "execute_result"
    }
   ],
   "source": [
    "from sklearn.model_selection import GridSearchCV\n",
    "\n",
    "clf = lgb.LGBMClassifier()\n",
    "cv = RepeatedStratifiedKFold(n_splits=5, n_repeats=3, random_state=42)\n",
    "\n",
    "space = dict()\n",
    "space['n_estimators'] = [20, 60, 80, 100]\n",
    "space['learning_rate'] = [0.1]\n",
    "space['min_child_samples'] = [10, 15, 20]\n",
    "space['num_leaves'] = [30, 40, 50]\n",
    "space['is_unbalance'] = [True]\n",
    "\n",
    "clf_grid = GridSearchCV(clf, space, scoring='f1', cv=cv, n_jobs=-1)\n",
    "clf_grid.fit(X_train, y_train)"
   ]
  },
  {
   "cell_type": "code",
   "execution_count": 9,
   "id": "specified-southeast",
   "metadata": {},
   "outputs": [
    {
     "name": "stdout",
     "output_type": "stream",
     "text": [
      "F1 score: 0.838\n",
      "Best hyperparameters: {'is_unbalance': True, 'learning_rate': 0.1, 'min_child_samples': 20, 'n_estimators': 100, 'num_leaves': 30}\n"
     ]
    }
   ],
   "source": [
    "y_pred = np.array(clf_grid.predict(X_dev))\n",
    "\n",
    "print('F1 score: {:.3f}'.format(f1_score(y_dev, y_pred)))\n",
    "print('Best hyperparameters: {}'.format(clf_grid.best_params_))"
   ]
  },
  {
   "cell_type": "code",
   "execution_count": 10,
   "id": "selective-laser",
   "metadata": {},
   "outputs": [
    {
     "data": {
      "image/png": "[encoded data removed]",
      "text/plain": [
       "<Figure size 432x288 with 2 Axes>"
      ]
     },
     "metadata": {
      "needs_background": "light"
     },
     "output_type": "display_data"
    }
   ],
   "source": [
    "import seaborn as sns\n",
    "\n",
    "conf_matrix = pd.crosstab(y_dev, y_pred, rownames=['Actual'], colnames=['Predicted'])\n",
    "sns.heatmap(conf_matrix, annot=True, fmt='g');"
   ]
  },
  {
   "cell_type": "markdown",
   "id": "consolidated-favor",
   "metadata": {},
   "source": [
    "<h3>LGBMClassifier with SMOTE over-sampling</h3>"
   ]
  },
  {
   "cell_type": "code",
   "execution_count": 11,
   "id": "upset-cross",
   "metadata": {},
   "outputs": [
    {
     "name": "stdout",
     "output_type": "stream",
     "text": [
      "F1 score: 0.772\n",
      "Best hyperparameters: {'learning_rate': 0.1, 'min_child_samples': 10, 'n_estimators': 100, 'num_leaves': 50}\n"
     ]
    }
   ],
   "source": [
    "from imblearn.over_sampling import SMOTE\n",
    "\n",
    "sm = SMOTE(random_state=42)\n",
    "X_train_res, y_train_res = sm.fit_resample(X_train, y_train.ravel())\n",
    "\n",
    "clf = lgb.LGBMClassifier()\n",
    "cv = RepeatedStratifiedKFold(n_splits=5, n_repeats=3, random_state=42)\n",
    "\n",
    "space = dict()\n",
    "space['n_estimators'] = [20, 60, 80, 100]\n",
    "space['learning_rate'] = [0.1]\n",
    "space['min_child_samples'] = [10, 15, 20]\n",
    "space['num_leaves'] = [30, 40, 50]\n",
    "# space['is_unbalance'] = [True]\n",
    "\n",
    "clf_smote = GridSearchCV(clf, space, scoring='f1', cv=cv, n_jobs=-1)\n",
    "clf_smote.fit(X_train_res, y_train_res)\n",
    "\n",
    "y_pred = np.array(clf_smote.predict(X_dev))\n",
    "\n",
    "print('F1 score: {:.3f}'.format(f1_score(y_dev, y_pred)))\n",
    "print('Best hyperparameters: {}'.format(clf_smote.best_params_))"
   ]
  },
  {
   "cell_type": "code",
   "execution_count": 12,
   "id": "hungry-victor",
   "metadata": {},
   "outputs": [
    {
     "data": {
      "image/png": "[encoded data removed]",
      "text/plain": [
       "<Figure size 432x288 with 2 Axes>"
      ]
     },
     "metadata": {
      "needs_background": "light"
     },
     "output_type": "display_data"
    }
   ],
   "source": [
    "conf_matrix = pd.crosstab(y_dev, y_pred, rownames=['Actual'], colnames=['Predicted'])\n",
    "sns.heatmap(conf_matrix, annot=True, fmt='g');"
   ]
  },
  {
   "cell_type": "markdown",
   "id": "compliant-device",
   "metadata": {},
   "source": [
    "<h3>LGBMClassifier: combination of SMOTE over-sampling with random undersampling</h3>"
   ]
  },
  {
   "cell_type": "code",
   "execution_count": 13,
   "id": "distinguished-gauge",
   "metadata": {},
   "outputs": [
    {
     "name": "stdout",
     "output_type": "stream",
     "text": [
      "F1 score: 0.798\n",
      "Best hyperparameters: {'learning_rate': 0.1, 'min_child_samples': 15, 'n_estimators': 100, 'num_leaves': 40}\n"
     ]
    }
   ],
   "source": [
    "from imblearn.under_sampling import RandomUnderSampler\n",
    "from imblearn.pipeline import Pipeline\n",
    "\n",
    "over = SMOTE(sampling_strategy=0.2)\n",
    "under = RandomUnderSampler(sampling_strategy=0.6)\n",
    "steps = [('o', over), ('u', under)]\n",
    "pipeline = Pipeline(steps=steps)\n",
    "\n",
    "X_train_res, y_train_res = pipeline.fit_resample(X_train, y_train)\n",
    "\n",
    "clf = lgb.LGBMClassifier()\n",
    "cv = RepeatedStratifiedKFold(n_splits=5, n_repeats=3, random_state=42)\n",
    "\n",
    "space = dict()\n",
    "space['n_estimators'] = [20, 60, 80, 100]\n",
    "space['learning_rate'] = [0.1]\n",
    "space['min_child_samples'] = [10, 15, 20]\n",
    "space['num_leaves'] = [30, 40, 50]\n",
    "# space['is_unbalance'] = [True]\n",
    "\n",
    "clf_comb = GridSearchCV(clf, space, scoring='f1', cv=cv, n_jobs=-1)\n",
    "clf_comb.fit(X_train_res, y_train_res)\n",
    "\n",
    "y_pred = np.array(clf_comb.predict(X_dev))\n",
    "\n",
    "print('F1 score: {:.3f}'.format(f1_score(y_dev, y_pred)))\n",
    "print('Best hyperparameters: {}'.format(clf_comb.best_params_))"
   ]
  },
  {
   "cell_type": "code",
   "execution_count": 14,
   "id": "chubby-rover",
   "metadata": {},
   "outputs": [
    {
     "data": {
      "image/png": "[encoded data removed]",
      "text/plain": [
       "<Figure size 432x288 with 2 Axes>"
      ]
     },
     "metadata": {
      "needs_background": "light"
     },
     "output_type": "display_data"
    }
   ],
   "source": [
    "conf_matrix = pd.crosstab(y_dev, y_pred, rownames=['Actual'], colnames=['Predicted'])\n",
    "sns.heatmap(conf_matrix, annot=True, fmt='g');"
   ]
  },
  {
   "cell_type": "markdown",
   "id": "capable-sleeping",
   "metadata": {},
   "source": [
    "<p>It seems like tuned LGBMClassifier method generates a higher F1 Score than any other methods</p>"
   ]
  },
  {
   "cell_type": "markdown",
   "id": "written-calcium",
   "metadata": {},
   "source": [
    "<h3>Put all the pieces together</h3>"
   ]
  },
  {
   "cell_type": "code",
   "execution_count": 15,
   "id": "spoken-official",
   "metadata": {},
   "outputs": [
    {
     "name": "stdout",
     "output_type": "stream",
     "text": [
      "F1 score: 0.867\n",
      "Best hyperparameters: {'is_unbalance': True, 'learning_rate': 0.1, 'min_child_samples': 15, 'n_estimators': 100, 'num_leaves': 40}\n"
     ]
    }
   ],
   "source": [
    "X_test = test.drop(['churn'], axis=1)\n",
    "y_test = test['churn']\n",
    "\n",
    "clf_grid.fit(X, y)\n",
    "\n",
    "y_pred = np.array(clf_grid.predict(X_test))\n",
    "\n",
    "print('F1 score: {:.3f}'.format(f1_score(y_test, y_pred)))\n",
    "print('Best hyperparameters: {}'.format(clf_grid.best_params_))"
   ]
  },
  {
   "cell_type": "code",
   "execution_count": 16,
   "id": "threaded-drill",
   "metadata": {},
   "outputs": [
    {
     "data": {
      "image/png": "[encoded data removed]",
      "text/plain": [
       "<Figure size 432x288 with 2 Axes>"
      ]
     },
     "metadata": {
      "needs_background": "light"
     },
     "output_type": "display_data"
    }
   ],
   "source": [
    "conf_matrix = pd.crosstab(y_test, y_pred, rownames=['Actual'], colnames=['Predicted'])\n",
    "sns.heatmap(conf_matrix, annot=True, fmt='g');"
   ]
  },
  {
   "cell_type": "code",
   "execution_count": 17,
   "id": "cognitive-tribe",
   "metadata": {},
   "outputs": [
    {
     "name": "stdout",
     "output_type": "stream",
     "text": [
      "0.9647058823529412\n"
     ]
    }
   ],
   "source": [
    "from sklearn.metrics import accuracy_score\n",
    "\n",
    "print(accuracy_score(y_test, y_pred))"
   ]
  },
  {
   "cell_type": "code",
   "execution_count": null,
   "id": "brief-glass",
   "metadata": {},
   "outputs": [],
   "source": []
  }
 ],
 "metadata": {
  "kernelspec": {
   "display_name": "Python 3",
   "language": "python",
   "name": "python3"
  },
  "language_info": {
   "codemirror_mode": {
    "name": "ipython",
    "version": 3
   },
   "file_extension": ".py",
   "mimetype": "text/x-python",
   "name": "python",
   "nbconvert_exporter": "python",
   "pygments_lexer": "ipython3",
   "version": "3.8.5"
  }
 },
 "nbformat": 4,
 "nbformat_minor": 5
}
